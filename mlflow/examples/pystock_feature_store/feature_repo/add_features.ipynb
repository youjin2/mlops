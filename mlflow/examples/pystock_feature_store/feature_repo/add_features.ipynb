{
 "cells": [
  {
   "cell_type": "code",
   "execution_count": 1,
   "id": "b05ab839",
   "metadata": {},
   "outputs": [],
   "source": [
    "import datetime\n",
    "\n",
    "import pandas as pd\n",
    "from feast import FeatureStore"
   ]
  },
  {
   "cell_type": "code",
   "execution_count": 2,
   "id": "f6abfe8a",
   "metadata": {},
   "outputs": [],
   "source": [
    "data = pd.read_csv(\"./data/features.csv\", header=\"infer\", sep=\";\")"
   ]
  },
  {
   "cell_type": "code",
   "execution_count": 3,
   "id": "9bfa4dcc",
   "metadata": {},
   "outputs": [
    {
     "data": {
      "text/html": [
       "<div>\n",
       "<style scoped>\n",
       "    .dataframe tbody tr th:only-of-type {\n",
       "        vertical-align: middle;\n",
       "    }\n",
       "\n",
       "    .dataframe tbody tr th {\n",
       "        vertical-align: top;\n",
       "    }\n",
       "\n",
       "    .dataframe thead th {\n",
       "        text-align: right;\n",
       "    }\n",
       "</style>\n",
       "<table border=\"1\" class=\"dataframe\">\n",
       "  <thead>\n",
       "    <tr style=\"text-align: right;\">\n",
       "      <th></th>\n",
       "      <th>token</th>\n",
       "      <th>create_timestamp</th>\n",
       "      <th>event_timestamp</th>\n",
       "      <th>prev_1days</th>\n",
       "      <th>prev_2days</th>\n",
       "      <th>prev_3days</th>\n",
       "      <th>prev_4days</th>\n",
       "      <th>prev_5days</th>\n",
       "      <th>prev_6days</th>\n",
       "      <th>prev_7days</th>\n",
       "      <th>prev_8days</th>\n",
       "      <th>prev_9days</th>\n",
       "      <th>prev_10days</th>\n",
       "      <th>prev_11days</th>\n",
       "      <th>prev_12days</th>\n",
       "      <th>prev_13days</th>\n",
       "    </tr>\n",
       "  </thead>\n",
       "  <tbody>\n",
       "    <tr>\n",
       "      <th>0</th>\n",
       "      <td>btc</td>\n",
       "      <td>2021-06-11 11:00:00+00:00</td>\n",
       "      <td>2021-06-26 11:08:55.222</td>\n",
       "      <td>1</td>\n",
       "      <td>1</td>\n",
       "      <td>0</td>\n",
       "      <td>0</td>\n",
       "      <td>0</td>\n",
       "      <td>0</td>\n",
       "      <td>1</td>\n",
       "      <td>1</td>\n",
       "      <td>0</td>\n",
       "      <td>0</td>\n",
       "      <td>0</td>\n",
       "      <td>1</td>\n",
       "      <td>0</td>\n",
       "    </tr>\n",
       "  </tbody>\n",
       "</table>\n",
       "</div>"
      ],
      "text/plain": [
       "  token           create_timestamp          event_timestamp  prev_1days  \\\n",
       "0   btc  2021-06-11 11:00:00+00:00  2021-06-26 11:08:55.222           1   \n",
       "\n",
       "   prev_2days  prev_3days  prev_4days  prev_5days  prev_6days  prev_7days  \\\n",
       "0           1           0           0           0           0           1   \n",
       "\n",
       "   prev_8days  prev_9days  prev_10days  prev_11days  prev_12days  prev_13days  \n",
       "0           1           0            0            0            1            0  "
      ]
     },
     "execution_count": 3,
     "metadata": {},
     "output_type": "execute_result"
    }
   ],
   "source": [
    "data"
   ]
  },
  {
   "cell_type": "code",
   "execution_count": 4,
   "id": "aa625164",
   "metadata": {},
   "outputs": [],
   "source": [
    "data['create_timestamp'] = data['create_timestamp'].apply(datetime.datetime.fromisoformat)\n",
    "data['event_timestamp'] = data['event_timestamp'].apply(datetime.datetime.fromisoformat)"
   ]
  },
  {
   "cell_type": "code",
   "execution_count": 5,
   "id": "a0daa893",
   "metadata": {},
   "outputs": [],
   "source": [
    "# use this data in \"feast apply\"\n",
    "data.to_parquet(\"./data/features.parquet\")"
   ]
  },
  {
   "cell_type": "code",
   "execution_count": null,
   "id": "a568f702",
   "metadata": {},
   "outputs": [],
   "source": []
  },
  {
   "cell_type": "code",
   "execution_count": 6,
   "id": "047c07c4",
   "metadata": {},
   "outputs": [],
   "source": [
    "# entity_df generally comes from upstream systems\n",
    "entity_data = pd.DataFrame.from_dict({\n",
    "    \"token\": [\"btc\",\"btc\",\"btc\",\"btc\"],\n",
    "    \"event_timestamp\": [\n",
    "        datetime.datetime(2021, 4, 12, 10, 59, 42),\n",
    "        datetime.datetime(2021, 4, 12, 8,  12, 10),\n",
    "        datetime.datetime(2021, 4, 12, 16, 40, 26),\n",
    "        datetime.datetime(2021, 4, 12, 15, 1 , 12),\n",
    "    ]\n",
    "})"
   ]
  },
  {
   "cell_type": "code",
   "execution_count": 7,
   "id": "ff5d9fcf",
   "metadata": {},
   "outputs": [
    {
     "data": {
      "text/html": [
       "<div>\n",
       "<style scoped>\n",
       "    .dataframe tbody tr th:only-of-type {\n",
       "        vertical-align: middle;\n",
       "    }\n",
       "\n",
       "    .dataframe tbody tr th {\n",
       "        vertical-align: top;\n",
       "    }\n",
       "\n",
       "    .dataframe thead th {\n",
       "        text-align: right;\n",
       "    }\n",
       "</style>\n",
       "<table border=\"1\" class=\"dataframe\">\n",
       "  <thead>\n",
       "    <tr style=\"text-align: right;\">\n",
       "      <th></th>\n",
       "      <th>token</th>\n",
       "      <th>event_timestamp</th>\n",
       "    </tr>\n",
       "  </thead>\n",
       "  <tbody>\n",
       "    <tr>\n",
       "      <th>0</th>\n",
       "      <td>btc</td>\n",
       "      <td>2021-04-12 10:59:42</td>\n",
       "    </tr>\n",
       "    <tr>\n",
       "      <th>1</th>\n",
       "      <td>btc</td>\n",
       "      <td>2021-04-12 08:12:10</td>\n",
       "    </tr>\n",
       "    <tr>\n",
       "      <th>2</th>\n",
       "      <td>btc</td>\n",
       "      <td>2021-04-12 16:40:26</td>\n",
       "    </tr>\n",
       "    <tr>\n",
       "      <th>3</th>\n",
       "      <td>btc</td>\n",
       "      <td>2021-04-12 15:01:12</td>\n",
       "    </tr>\n",
       "  </tbody>\n",
       "</table>\n",
       "</div>"
      ],
      "text/plain": [
       "  token     event_timestamp\n",
       "0   btc 2021-04-12 10:59:42\n",
       "1   btc 2021-04-12 08:12:10\n",
       "2   btc 2021-04-12 16:40:26\n",
       "3   btc 2021-04-12 15:01:12"
      ]
     },
     "execution_count": 7,
     "metadata": {},
     "output_type": "execute_result"
    }
   ],
   "source": [
    "entity_data.head()"
   ]
  },
  {
   "cell_type": "code",
   "execution_count": null,
   "id": "53530bbb",
   "metadata": {},
   "outputs": [],
   "source": []
  },
  {
   "cell_type": "code",
   "execution_count": 8,
   "id": "690547eb",
   "metadata": {},
   "outputs": [],
   "source": [
    "store = FeatureStore(repo_path=\".\")\n",
    "training_data = store.get_historical_features(\n",
    "    entity_df=entity_data, \n",
    "    features = [\n",
    "        \"token_hourly_features:prev_3days\",\n",
    "        \"token_hourly_features:prev_4days\",\n",
    "        \"token_hourly_features:prev_5days\",\n",
    "    ],\n",
    ")"
   ]
  },
  {
   "cell_type": "code",
   "execution_count": 9,
   "id": "f6e9e071",
   "metadata": {},
   "outputs": [
    {
     "data": {
      "text/html": [
       "<div>\n",
       "<style scoped>\n",
       "    .dataframe tbody tr th:only-of-type {\n",
       "        vertical-align: middle;\n",
       "    }\n",
       "\n",
       "    .dataframe tbody tr th {\n",
       "        vertical-align: top;\n",
       "    }\n",
       "\n",
       "    .dataframe thead th {\n",
       "        text-align: right;\n",
       "    }\n",
       "</style>\n",
       "<table border=\"1\" class=\"dataframe\">\n",
       "  <thead>\n",
       "    <tr style=\"text-align: right;\">\n",
       "      <th></th>\n",
       "      <th>token</th>\n",
       "      <th>event_timestamp</th>\n",
       "      <th>prev_3days</th>\n",
       "      <th>prev_4days</th>\n",
       "      <th>prev_5days</th>\n",
       "    </tr>\n",
       "  </thead>\n",
       "  <tbody>\n",
       "  </tbody>\n",
       "</table>\n",
       "</div>"
      ],
      "text/plain": [
       "Empty DataFrame\n",
       "Columns: [token, event_timestamp, prev_3days, prev_4days, prev_5days]\n",
       "Index: []"
      ]
     },
     "execution_count": 9,
     "metadata": {},
     "output_type": "execute_result"
    }
   ],
   "source": [
    "training_data.to_df()"
   ]
  },
  {
   "cell_type": "code",
   "execution_count": null,
   "id": "9dc29bd7",
   "metadata": {},
   "outputs": [],
   "source": []
  },
  {
   "cell_type": "code",
   "execution_count": null,
   "id": "5fdb2fc0",
   "metadata": {},
   "outputs": [],
   "source": []
  },
  {
   "cell_type": "code",
   "execution_count": null,
   "id": "6d21ad81",
   "metadata": {},
   "outputs": [],
   "source": []
  },
  {
   "cell_type": "code",
   "execution_count": null,
   "id": "f7eda4b5",
   "metadata": {},
   "outputs": [],
   "source": []
  },
  {
   "cell_type": "code",
   "execution_count": null,
   "id": "a97877c3",
   "metadata": {},
   "outputs": [],
   "source": []
  },
  {
   "cell_type": "code",
   "execution_count": null,
   "id": "48e554f6",
   "metadata": {},
   "outputs": [],
   "source": []
  }
 ],
 "metadata": {
  "kernelspec": {
   "display_name": "Python 3 (ipykernel)",
   "language": "python",
   "name": "python3"
  },
  "language_info": {
   "codemirror_mode": {
    "name": "ipython",
    "version": 3
   },
   "file_extension": ".py",
   "mimetype": "text/x-python",
   "name": "python",
   "nbconvert_exporter": "python",
   "pygments_lexer": "ipython3",
   "version": "3.10.6"
  }
 },
 "nbformat": 4,
 "nbformat_minor": 5
}
