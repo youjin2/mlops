{
 "cells": [
  {
   "cell_type": "code",
   "execution_count": 1,
   "id": "f68dc497",
   "metadata": {},
   "outputs": [],
   "source": [
    "import os\n",
    "import random\n",
    "\n",
    "import mlflow\n",
    "import pandas as pd"
   ]
  },
  {
   "cell_type": "code",
   "execution_count": 2,
   "id": "fc169fbe",
   "metadata": {},
   "outputs": [
    {
     "name": "stdout",
     "output_type": "stream",
     "text": [
      "http://mlflow:5000\n",
      "http://mlflow:5000\n"
     ]
    }
   ],
   "source": [
    "# autimatically parsed from environment varabie\n",
    "print(mlflow.tracking.get_tracking_uri())\n",
    "print(os.environ[\"MLFLOW_TRACKING_URI\"])"
   ]
  },
  {
   "cell_type": "markdown",
   "id": "54ca9f47",
   "metadata": {},
   "source": [
    "## Sample experiment"
   ]
  },
  {
   "cell_type": "code",
   "execution_count": 3,
   "id": "7105f4a9",
   "metadata": {},
   "outputs": [
    {
     "data": {
      "text/plain": [
       "<Experiment: artifact_location='/data/artifacts/1', experiment_id='1', lifecycle_stage='active', name='mlflow_experiments', tags={}>"
      ]
     },
     "execution_count": 3,
     "metadata": {},
     "output_type": "execute_result"
    }
   ],
   "source": [
    "mlflow.set_experiment(\"mlflow_experiments\")"
   ]
  },
  {
   "cell_type": "code",
   "execution_count": 4,
   "id": "8a57852b",
   "metadata": {},
   "outputs": [],
   "source": [
    "# starting and tearing down the experiment\n",
    "with mlflow.start_run():\n",
    "    mlflow.log_param(\"name\",\"mlflow_test\")\n",
    "    mlflow.log_param(\"category\",\"algorithm\")\n",
    "    mlflow.log_param(\"type\",\"classification\")\n",
    "    for i in range(5):\n",
    "        mlflow.log_metric(\"i\", i, step=i)\n",
    "    mlflow.log_artifact(\"02_docker_stack_example.ipynb\")"
   ]
  },
  {
   "cell_type": "code",
   "execution_count": null,
   "id": "4b0453ab",
   "metadata": {},
   "outputs": [],
   "source": []
  },
  {
   "cell_type": "code",
   "execution_count": null,
   "id": "d492c08a",
   "metadata": {},
   "outputs": [],
   "source": []
  },
  {
   "cell_type": "markdown",
   "id": "cb22cb64",
   "metadata": {},
   "source": [
    "## Update with your own algorithms"
   ]
  },
  {
   "cell_type": "code",
   "execution_count": 5,
   "id": "6d6ba6f4",
   "metadata": {},
   "outputs": [],
   "source": [
    "class RandomPredictor(mlflow.pyfunc.PythonModel):\n",
    "    def __init__(self):\n",
    "        pass\n",
    "\n",
    "    def predict(self, context, model_input):\n",
    "        return model_input.apply(lambda column: random.randint(0,1))"
   ]
  },
  {
   "cell_type": "code",
   "execution_count": 6,
   "id": "e6670b16",
   "metadata": {},
   "outputs": [
    {
     "name": "stderr",
     "output_type": "stream",
     "text": [
      "/opt/conda/lib/python3.10/site-packages/_distutils_hack/__init__.py:33: UserWarning: Setuptools is replacing distutils.\n",
      "  warnings.warn(\"Setuptools is replacing distutils.\")\n"
     ]
    }
   ],
   "source": [
    "# Construct and save the model\n",
    "model_path = \"models/randomized_model\"\n",
    "r = RandomPredictor()\n",
    "mlflow.pyfunc.save_model(path=model_path, python_model=r)"
   ]
  },
  {
   "cell_type": "code",
   "execution_count": 7,
   "id": "cd2d7e59",
   "metadata": {},
   "outputs": [],
   "source": [
    "# load and used the saved model\n",
    "loaded_model = mlflow.pyfunc.load_model(model_path)"
   ]
  },
  {
   "cell_type": "code",
   "execution_count": 8,
   "id": "4b778f7d",
   "metadata": {},
   "outputs": [
    {
     "name": "stdout",
     "output_type": "stream",
     "text": [
      "{'utc_time_created': '2022-09-18 12:45:33.244927', 'flavors': {'python_function': {'cloudpickle_version': '2.2.0', 'env': 'conda.yaml', 'loader_module': 'mlflow.pyfunc.model', 'python_model': 'python_model.pkl', 'python_version': '3.10.6'}}, 'model_uuid': '2f2430f303e14334b284a25a9df9fb79', 'mlflow_version': '1.28.0'}\n"
     ]
    }
   ],
   "source": [
    "print(eval(loaded_model.metadata.to_json()))"
   ]
  },
  {
   "cell_type": "code",
   "execution_count": 9,
   "id": "f709b4e1",
   "metadata": {},
   "outputs": [
    {
     "name": "stderr",
     "output_type": "stream",
     "text": [
      "2022/09/18 12:45:34 INFO mlflow.tracking.fluent: Experiment with name 'stockpred_experiment_days_up' does not exist. Creating a new experiment.\n"
     ]
    }
   ],
   "source": [
    "model_inputs = pd.DataFrame([range(10)])\n",
    "\n",
    "random_predictor = RandomPredictor()\n",
    "mlflow.set_experiment(\"stockpred_experiment_days_up\")\n",
    "with mlflow.start_run():\n",
    "    model_output = loaded_model.predict(model_inputs)\n",
    "    \n",
    "    mlflow.log_metric(\"Days up\", model_output.sum())\n",
    "    mlflow.log_artifact(\"02_docker_stack_example.ipynb\")"
   ]
  },
  {
   "cell_type": "code",
   "execution_count": null,
   "id": "39506c5d",
   "metadata": {},
   "outputs": [],
   "source": []
  },
  {
   "cell_type": "code",
   "execution_count": null,
   "id": "acc2dd06",
   "metadata": {},
   "outputs": [],
   "source": []
  },
  {
   "cell_type": "code",
   "execution_count": null,
   "id": "d87aea94",
   "metadata": {},
   "outputs": [],
   "source": []
  },
  {
   "cell_type": "code",
   "execution_count": null,
   "id": "3badf6b9",
   "metadata": {},
   "outputs": [],
   "source": []
  },
  {
   "cell_type": "code",
   "execution_count": null,
   "id": "dca83afd",
   "metadata": {},
   "outputs": [],
   "source": []
  },
  {
   "cell_type": "code",
   "execution_count": null,
   "id": "a8fb7df1",
   "metadata": {},
   "outputs": [],
   "source": []
  }
 ],
 "metadata": {
  "kernelspec": {
   "display_name": "Python 3 (ipykernel)",
   "language": "python",
   "name": "python3"
  },
  "language_info": {
   "codemirror_mode": {
    "name": "ipython",
    "version": 3
   },
   "file_extension": ".py",
   "mimetype": "text/x-python",
   "name": "python",
   "nbconvert_exporter": "python",
   "pygments_lexer": "ipython3",
   "version": "3.10.6"
  }
 },
 "nbformat": 4,
 "nbformat_minor": 5
}
