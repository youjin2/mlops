{
 "cells": [
  {
   "cell_type": "markdown",
   "id": "a74f1217",
   "metadata": {},
   "source": [
    "## Experiment management\n",
    "### Problem statement\n",
    "Predict whether the market for BTC(bitcoin ticker)/USD will go up or not in a single day.\n",
    "- Success and failure: success is defined as the highest performance metric of the F score.\n",
    "- Model output: `1` for an increase in value of a stock ticker, `0` for non-increase.\n",
    "- Output usage:  used to provide a rest API with true or false values.\n",
    "- Data\n",
    "    - Input: Historical end of the day's price of a given ticker for the last 10 days.\n",
    "    - Output: `1` for increasing, `0` for not increasing"
   ]
  },
  {
   "cell_type": "code",
   "execution_count": 1,
   "id": "5e354710",
   "metadata": {},
   "outputs": [],
   "source": [
    "import datetime\n",
    "import random\n",
    "\n",
    "import pandas as pd\n",
    "import numpy as np\n",
    "import pandas_datareader.data as web\n",
    "\n",
    "import mlflow\n",
    "from mlflow.models.signature import infer_signature\n",
    "\n",
    "from sklearn import datasets, svm, metrics\n",
    "from sklearn.ensemble import RandomForestClassifier\n",
    "from sklearn.model_selection import train_test_split, cross_val_score\n",
    "\n",
    "import matplotlib.pyplot as plt"
   ]
  },
  {
   "cell_type": "code",
   "execution_count": null,
   "id": "f7ed1222",
   "metadata": {},
   "outputs": [],
   "source": []
  },
  {
   "cell_type": "markdown",
   "id": "5c6e70b7",
   "metadata": {},
   "source": [
    "## Retrieve dataset"
   ]
  },
  {
   "cell_type": "code",
   "execution_count": 2,
   "id": "3bbad88f",
   "metadata": {},
   "outputs": [],
   "source": [
    "start = datetime.datetime(2014, 1, 1)\n",
    "end = datetime.datetime(2020, 12, 31)"
   ]
  },
  {
   "cell_type": "code",
   "execution_count": 3,
   "id": "3cb58346",
   "metadata": {},
   "outputs": [],
   "source": [
    "btc_df = web.DataReader(\"BTC-USD\", \"yahoo\", start, end)\n",
    "btc_df['delta_pct'] = (btc_df['Close'] - btc_df['Open']) / btc_df['Open']\n",
    "\n",
    "# target variable\n",
    "btc_df['going_up'] = btc_df['delta_pct'].apply(lambda d: 1 if d > 0.00001 else 0).to_numpy()"
   ]
  },
  {
   "cell_type": "code",
   "execution_count": 4,
   "id": "46a81949",
   "metadata": {},
   "outputs": [
    {
     "data": {
      "text/html": [
       "<div>\n",
       "<style scoped>\n",
       "    .dataframe tbody tr th:only-of-type {\n",
       "        vertical-align: middle;\n",
       "    }\n",
       "\n",
       "    .dataframe tbody tr th {\n",
       "        vertical-align: top;\n",
       "    }\n",
       "\n",
       "    .dataframe thead th {\n",
       "        text-align: right;\n",
       "    }\n",
       "</style>\n",
       "<table border=\"1\" class=\"dataframe\">\n",
       "  <thead>\n",
       "    <tr style=\"text-align: right;\">\n",
       "      <th></th>\n",
       "      <th>High</th>\n",
       "      <th>Low</th>\n",
       "      <th>Open</th>\n",
       "      <th>Close</th>\n",
       "      <th>Volume</th>\n",
       "      <th>Adj Close</th>\n",
       "      <th>delta_pct</th>\n",
       "      <th>going_up</th>\n",
       "    </tr>\n",
       "    <tr>\n",
       "      <th>Date</th>\n",
       "      <th></th>\n",
       "      <th></th>\n",
       "      <th></th>\n",
       "      <th></th>\n",
       "      <th></th>\n",
       "      <th></th>\n",
       "      <th></th>\n",
       "      <th></th>\n",
       "    </tr>\n",
       "  </thead>\n",
       "  <tbody>\n",
       "    <tr>\n",
       "      <th>2014-09-17</th>\n",
       "      <td>468.174011</td>\n",
       "      <td>452.421997</td>\n",
       "      <td>465.864014</td>\n",
       "      <td>457.334015</td>\n",
       "      <td>21056800</td>\n",
       "      <td>457.334015</td>\n",
       "      <td>-0.018310</td>\n",
       "      <td>0</td>\n",
       "    </tr>\n",
       "    <tr>\n",
       "      <th>2014-09-18</th>\n",
       "      <td>456.859985</td>\n",
       "      <td>413.104004</td>\n",
       "      <td>456.859985</td>\n",
       "      <td>424.440002</td>\n",
       "      <td>34483200</td>\n",
       "      <td>424.440002</td>\n",
       "      <td>-0.070963</td>\n",
       "      <td>0</td>\n",
       "    </tr>\n",
       "    <tr>\n",
       "      <th>2014-09-19</th>\n",
       "      <td>427.834991</td>\n",
       "      <td>384.532013</td>\n",
       "      <td>424.102997</td>\n",
       "      <td>394.795990</td>\n",
       "      <td>37919700</td>\n",
       "      <td>394.795990</td>\n",
       "      <td>-0.069104</td>\n",
       "      <td>0</td>\n",
       "    </tr>\n",
       "    <tr>\n",
       "      <th>2014-09-20</th>\n",
       "      <td>423.295990</td>\n",
       "      <td>389.882996</td>\n",
       "      <td>394.673004</td>\n",
       "      <td>408.903992</td>\n",
       "      <td>36863600</td>\n",
       "      <td>408.903992</td>\n",
       "      <td>0.036058</td>\n",
       "      <td>1</td>\n",
       "    </tr>\n",
       "    <tr>\n",
       "      <th>2014-09-21</th>\n",
       "      <td>412.425995</td>\n",
       "      <td>393.181000</td>\n",
       "      <td>408.084991</td>\n",
       "      <td>398.821014</td>\n",
       "      <td>26580100</td>\n",
       "      <td>398.821014</td>\n",
       "      <td>-0.022701</td>\n",
       "      <td>0</td>\n",
       "    </tr>\n",
       "  </tbody>\n",
       "</table>\n",
       "</div>"
      ],
      "text/plain": [
       "                  High         Low        Open       Close    Volume  \\\n",
       "Date                                                                   \n",
       "2014-09-17  468.174011  452.421997  465.864014  457.334015  21056800   \n",
       "2014-09-18  456.859985  413.104004  456.859985  424.440002  34483200   \n",
       "2014-09-19  427.834991  384.532013  424.102997  394.795990  37919700   \n",
       "2014-09-20  423.295990  389.882996  394.673004  408.903992  36863600   \n",
       "2014-09-21  412.425995  393.181000  408.084991  398.821014  26580100   \n",
       "\n",
       "             Adj Close  delta_pct  going_up  \n",
       "Date                                         \n",
       "2014-09-17  457.334015  -0.018310         0  \n",
       "2014-09-18  424.440002  -0.070963         0  \n",
       "2014-09-19  394.795990  -0.069104         0  \n",
       "2014-09-20  408.903992   0.036058         1  \n",
       "2014-09-21  398.821014  -0.022701         0  "
      ]
     },
     "execution_count": 4,
     "metadata": {},
     "output_type": "execute_result"
    }
   ],
   "source": [
    "btc_df.head()"
   ]
  },
  {
   "cell_type": "code",
   "execution_count": 5,
   "id": "deecd4c6",
   "metadata": {},
   "outputs": [
    {
     "data": {
      "text/html": [
       "<div>\n",
       "<style scoped>\n",
       "    .dataframe tbody tr th:only-of-type {\n",
       "        vertical-align: middle;\n",
       "    }\n",
       "\n",
       "    .dataframe tbody tr th {\n",
       "        vertical-align: top;\n",
       "    }\n",
       "\n",
       "    .dataframe thead th {\n",
       "        text-align: right;\n",
       "    }\n",
       "</style>\n",
       "<table border=\"1\" class=\"dataframe\">\n",
       "  <thead>\n",
       "    <tr style=\"text-align: right;\">\n",
       "      <th></th>\n",
       "      <th>High</th>\n",
       "      <th>Low</th>\n",
       "      <th>Open</th>\n",
       "      <th>Close</th>\n",
       "      <th>Volume</th>\n",
       "      <th>Adj Close</th>\n",
       "      <th>delta_pct</th>\n",
       "      <th>going_up</th>\n",
       "    </tr>\n",
       "    <tr>\n",
       "      <th>Date</th>\n",
       "      <th></th>\n",
       "      <th></th>\n",
       "      <th></th>\n",
       "      <th></th>\n",
       "      <th></th>\n",
       "      <th></th>\n",
       "      <th></th>\n",
       "      <th></th>\n",
       "    </tr>\n",
       "  </thead>\n",
       "  <tbody>\n",
       "    <tr>\n",
       "      <th>2020-12-28</th>\n",
       "      <td>27389.111328</td>\n",
       "      <td>26207.640625</td>\n",
       "      <td>26280.822266</td>\n",
       "      <td>27084.808594</td>\n",
       "      <td>49056742893</td>\n",
       "      <td>27084.808594</td>\n",
       "      <td>0.030592</td>\n",
       "      <td>1</td>\n",
       "    </tr>\n",
       "    <tr>\n",
       "      <th>2020-12-29</th>\n",
       "      <td>27370.720703</td>\n",
       "      <td>25987.298828</td>\n",
       "      <td>27081.810547</td>\n",
       "      <td>27362.437500</td>\n",
       "      <td>45265946774</td>\n",
       "      <td>27362.437500</td>\n",
       "      <td>0.010362</td>\n",
       "      <td>1</td>\n",
       "    </tr>\n",
       "    <tr>\n",
       "      <th>2020-12-30</th>\n",
       "      <td>28937.740234</td>\n",
       "      <td>27360.089844</td>\n",
       "      <td>27360.089844</td>\n",
       "      <td>28840.953125</td>\n",
       "      <td>51287442704</td>\n",
       "      <td>28840.953125</td>\n",
       "      <td>0.054125</td>\n",
       "      <td>1</td>\n",
       "    </tr>\n",
       "    <tr>\n",
       "      <th>2020-12-31</th>\n",
       "      <td>29244.876953</td>\n",
       "      <td>28201.992188</td>\n",
       "      <td>28841.574219</td>\n",
       "      <td>29001.720703</td>\n",
       "      <td>46754964848</td>\n",
       "      <td>29001.720703</td>\n",
       "      <td>0.005553</td>\n",
       "      <td>1</td>\n",
       "    </tr>\n",
       "    <tr>\n",
       "      <th>2021-01-01</th>\n",
       "      <td>29600.626953</td>\n",
       "      <td>28803.585938</td>\n",
       "      <td>28994.009766</td>\n",
       "      <td>29374.152344</td>\n",
       "      <td>40730301359</td>\n",
       "      <td>29374.152344</td>\n",
       "      <td>0.013111</td>\n",
       "      <td>1</td>\n",
       "    </tr>\n",
       "  </tbody>\n",
       "</table>\n",
       "</div>"
      ],
      "text/plain": [
       "                    High           Low          Open         Close  \\\n",
       "Date                                                                 \n",
       "2020-12-28  27389.111328  26207.640625  26280.822266  27084.808594   \n",
       "2020-12-29  27370.720703  25987.298828  27081.810547  27362.437500   \n",
       "2020-12-30  28937.740234  27360.089844  27360.089844  28840.953125   \n",
       "2020-12-31  29244.876953  28201.992188  28841.574219  29001.720703   \n",
       "2021-01-01  29600.626953  28803.585938  28994.009766  29374.152344   \n",
       "\n",
       "                 Volume     Adj Close  delta_pct  going_up  \n",
       "Date                                                        \n",
       "2020-12-28  49056742893  27084.808594   0.030592         1  \n",
       "2020-12-29  45265946774  27362.437500   0.010362         1  \n",
       "2020-12-30  51287442704  28840.953125   0.054125         1  \n",
       "2020-12-31  46754964848  29001.720703   0.005553         1  \n",
       "2021-01-01  40730301359  29374.152344   0.013111         1  "
      ]
     },
     "execution_count": 5,
     "metadata": {},
     "output_type": "execute_result"
    }
   ],
   "source": [
    "btc_df.tail()"
   ]
  },
  {
   "cell_type": "code",
   "execution_count": 6,
   "id": "501ab3c9",
   "metadata": {},
   "outputs": [
    {
     "data": {
      "text/plain": [
       "(2299, 8)"
      ]
     },
     "execution_count": 6,
     "metadata": {},
     "output_type": "execute_result"
    }
   ],
   "source": [
    "btc_df.shape"
   ]
  },
  {
   "cell_type": "code",
   "execution_count": 7,
   "id": "0a77ac69",
   "metadata": {},
   "outputs": [
    {
     "data": {
      "text/plain": [
       "<AxesSubplot: xlabel='Date'>"
      ]
     },
     "execution_count": 7,
     "metadata": {},
     "output_type": "execute_result"
    },
    {
     "data": {
      "image/png": "[encoded data removed]",
      "text/plain": [
       "<Figure size 640x480 with 1 Axes>"
      ]
     },
     "metadata": {},
     "output_type": "display_data"
    }
   ],
   "source": [
    "btc_df[\"Open\"].plot()"
   ]
  },
  {
   "cell_type": "code",
   "execution_count": 8,
   "id": "9d5c69a7",
   "metadata": {},
   "outputs": [],
   "source": [
    "def rolling_window(a, window):\n",
    "    \"\"\"\n",
    "        Takes np.array 'a' and size 'window' as parameters\n",
    "        Outputs an np.array with all the ordered sequences of values of 'a' of size 'window'\n",
    "        e.g. Input: ( np.array([1, 2, 3, 4, 5, 6]), 4 )\n",
    "             Output: \n",
    "                     array([[1, 2, 3, 4],\n",
    "                           [2, 3, 4, 5],\n",
    "                           [3, 4, 5, 6]])\n",
    "    \"\"\"\n",
    "    shape = a.shape[:-1] + (a.shape[-1] - window + 1, window)\n",
    "    strides = a.strides + (a.strides[-1],)\n",
    "    return np.lib.stride_tricks.as_strided(a, shape=shape, strides=strides)\n"
   ]
  },
  {
   "cell_type": "code",
   "execution_count": 9,
   "id": "ceb55c84",
   "metadata": {},
   "outputs": [],
   "source": [
    "element = btc_df['going_up'].to_numpy()"
   ]
  },
  {
   "cell_type": "code",
   "execution_count": 10,
   "id": "39392d39",
   "metadata": {},
   "outputs": [],
   "source": [
    "WINDOW_SIZE=15\n",
    "training_data = rolling_window(element, WINDOW_SIZE)"
   ]
  },
  {
   "cell_type": "code",
   "execution_count": 11,
   "id": "b6c1a501",
   "metadata": {},
   "outputs": [
    {
     "data": {
      "text/plain": [
       "(2285, 15)"
      ]
     },
     "execution_count": 11,
     "metadata": {},
     "output_type": "execute_result"
    }
   ],
   "source": [
    "training_data.shape"
   ]
  },
  {
   "cell_type": "code",
   "execution_count": 12,
   "id": "e3c73b19",
   "metadata": {},
   "outputs": [],
   "source": [
    "X = training_data[:, :-1]\n",
    "y = training_data[:, -1]"
   ]
  },
  {
   "cell_type": "code",
   "execution_count": 13,
   "id": "1849b2b2",
   "metadata": {},
   "outputs": [],
   "source": [
    "X_train, X_test, y_train, y_test = train_test_split(X, y, test_size=0.33, random_state=1234, stratify=y)"
   ]
  },
  {
   "cell_type": "code",
   "execution_count": 14,
   "id": "ee0ad774",
   "metadata": {},
   "outputs": [
    {
     "name": "stdout",
     "output_type": "stream",
     "text": [
      "(1530, 14) (1530,)\n",
      "(755, 14) (755,)\n"
     ]
    }
   ],
   "source": [
    "print(X_train.shape, y_train.shape)\n",
    "print(X_test.shape, y_test.shape)"
   ]
  },
  {
   "cell_type": "code",
   "execution_count": null,
   "id": "6eb26637",
   "metadata": {},
   "outputs": [],
   "source": []
  },
  {
   "cell_type": "markdown",
   "id": "3ae5152c",
   "metadata": {},
   "source": [
    "## Load the model as `MLflow Pyfunc` for prediction\n",
    "Full path of the model artifact can be identifide by,  \n",
    "`MLflow server` $\\rightarrow$ `click model run` $\\rightarrow$ `Artifacts tab (left)` $\\rightarrow$ `Full path`"
   ]
  },
  {
   "cell_type": "code",
   "execution_count": 15,
   "id": "c62511b1",
   "metadata": {},
   "outputs": [],
   "source": [
    "logged_model = \"/data/artifacts/4/97ee9e6938aa4ea7a1ef9fef30f634db/artifacts/model/\""
   ]
  },
  {
   "cell_type": "code",
   "execution_count": 16,
   "id": "d4830b4d",
   "metadata": {},
   "outputs": [],
   "source": [
    "loaded_model = mlflow.pyfunc.load_model(logged_model)"
   ]
  },
  {
   "cell_type": "code",
   "execution_count": 17,
   "id": "56961641",
   "metadata": {},
   "outputs": [
    {
     "name": "stdout",
     "output_type": "stream",
     "text": [
      "(755, 14) (755,)\n"
     ]
    }
   ],
   "source": [
    "y_pred = loaded_model.predict(X_test)\n",
    "print(X_test.shape, y_pred.shape)"
   ]
  },
  {
   "cell_type": "code",
   "execution_count": null,
   "id": "c3a4f2bb",
   "metadata": {},
   "outputs": [],
   "source": []
  },
  {
   "cell_type": "markdown",
   "id": "e2831d08",
   "metadata": {},
   "source": [
    "## Managing model signatures and schemas"
   ]
  },
  {
   "cell_type": "code",
   "execution_count": 18,
   "id": "3648160c",
   "metadata": {},
   "outputs": [
    {
     "name": "stdout",
     "output_type": "stream",
     "text": [
      "(1797, 8, 8)\n"
     ]
    }
   ],
   "source": [
    "digits = datasets.load_digits()\n",
    "print(digits.images.shape)"
   ]
  },
  {
   "cell_type": "code",
   "execution_count": 19,
   "id": "77e60272",
   "metadata": {},
   "outputs": [
    {
     "name": "stdout",
     "output_type": "stream",
     "text": [
      "1797\n"
     ]
    }
   ],
   "source": [
    "n_samples = len(digits.images)\n",
    "print(n_samples)"
   ]
  },
  {
   "cell_type": "code",
   "execution_count": 20,
   "id": "4e7a2982",
   "metadata": {},
   "outputs": [
    {
     "name": "stdout",
     "output_type": "stream",
     "text": [
      "(1797, 64)\n"
     ]
    }
   ],
   "source": [
    "data = digits.images.reshape((n_samples, -1))\n",
    "print(data.shape)"
   ]
  },
  {
   "cell_type": "code",
   "execution_count": 21,
   "id": "3254e5ee",
   "metadata": {},
   "outputs": [],
   "source": [
    "# reference: https://docs.databricks.com/_static/notebooks/mlflow/mlflow-end-to-end-example.html\n",
    "class SklearnModelWrapper(mlflow.pyfunc.PythonModel):\n",
    "    def __init__(self, model):\n",
    "        self.model = model\n",
    "\n",
    "    def predict(self, context, model_input):\n",
    "        return self.model.predict_proba(model_input)[:,1]"
   ]
  },
  {
   "cell_type": "code",
   "execution_count": 22,
   "id": "ee0dfd7a",
   "metadata": {},
   "outputs": [],
   "source": [
    "X_train, X_test, y_train, y_test = train_test_split(data, digits.target, test_size=0.5, shuffle=False)"
   ]
  },
  {
   "cell_type": "code",
   "execution_count": 23,
   "id": "ceb9c413",
   "metadata": {},
   "outputs": [
    {
     "name": "stderr",
     "output_type": "stream",
     "text": [
      "2022/09/19 16:18:44 WARNING mlflow.utils.autologging_utils: MLflow autologging encountered a warning: \"/opt/conda/lib/python3.10/site-packages/_distutils_hack/__init__.py:33: UserWarning: Setuptools is replacing distutils.\"\n"
     ]
    }
   ],
   "source": [
    "mlflow.set_experiment(\"model_signatures_and_schemas\")\n",
    "mlflow.sklearn.autolog()\n",
    "with mlflow.start_run(run_name=\"untuned_support_vector_machine\"):\n",
    "    model = svm.SVC(\n",
    "        gamma=1e-3,\n",
    "        probability=True,\n",
    "    )\n",
    "    model.fit(X_train, y_train)\n",
    "    wrappedModel = SklearnModelWrapper(model)\n",
    "    \n",
    "    # The MLmodel file contains the signature in JSON of input and output files.\n",
    "    # For some of the flavors autologged,\n",
    "    # we will not be able to infer the signature automatically\n",
    "    # so you can provide the signature inline when logging the model:\n",
    "    signature = infer_signature(\n",
    "        X_train,\n",
    "        wrappedModel.predict(None, X_train)\n",
    "    )\n",
    "    mlflow.pyfunc.log_model(\n",
    "        \"support_vector_machine_model\",\n",
    "        python_model=wrappedModel,\n",
    "        signature=signature,\n",
    "    )"
   ]
  },
  {
   "cell_type": "markdown",
   "id": "b95b09ad",
   "metadata": {},
   "source": [
    "```yaml\n",
    "artifact_path: support_vector_machine_model\n",
    "flavors:\n",
    "  python_function:\n",
    "    cloudpickle_version: 2.2.0\n",
    "    env: conda.yaml\n",
    "    loader_module: mlflow.pyfunc.model\n",
    "    python_model: python_model.pkl\n",
    "    python_version: 3.10.6\n",
    "mlflow_version: 1.28.0\n",
    "model_uuid: 5fdfdd00f72842ec86b98b2ca6ac89f9\n",
    "run_id: 91c5bce2c09b483992db42838514fd64\n",
    "signature:\n",
    "  inputs: '[{\"type\": \"tensor\", \"tensor-spec\": {\"dtype\": \"float64\", \"shape\": [-1, 64]}}]'\n",
    "  outputs: '[{\"type\": \"tensor\", \"tensor-spec\": {\"dtype\": \"float64\", \"shape\": [-1]}}]'\n",
    "utc_time_created: '2022-09-19 16:17:54.479476'\n",
    "```"
   ]
  },
  {
   "cell_type": "markdown",
   "id": "bda1e919",
   "metadata": {},
   "source": []
  },
  {
   "cell_type": "markdown",
   "id": "bec0601f",
   "metadata": {},
   "source": [
    "## Introducing Model Registry"
   ]
  },
  {
   "cell_type": "code",
   "execution_count": null,
   "id": "57b7661b",
   "metadata": {},
   "outputs": [],
   "source": []
  },
  {
   "cell_type": "code",
   "execution_count": null,
   "id": "9c326164",
   "metadata": {},
   "outputs": [],
   "source": []
  },
  {
   "cell_type": "code",
   "execution_count": null,
   "id": "23297443",
   "metadata": {},
   "outputs": [],
   "source": []
  }
 ],
 "metadata": {
  "kernelspec": {
   "display_name": "Python 3 (ipykernel)",
   "language": "python",
   "name": "python3"
  },
  "language_info": {
   "codemirror_mode": {
    "name": "ipython",
    "version": 3
   },
   "file_extension": ".py",
   "mimetype": "text/x-python",
   "name": "python",
   "nbconvert_exporter": "python",
   "pygments_lexer": "ipython3",
   "version": "3.10.6"
  }
 },
 "nbformat": 4,
 "nbformat_minor": 5
}
