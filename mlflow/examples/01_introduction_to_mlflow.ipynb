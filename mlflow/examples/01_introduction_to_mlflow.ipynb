{
 "cells": [
  {
   "cell_type": "code",
   "execution_count": 1,
   "id": "004f944f",
   "metadata": {},
   "outputs": [],
   "source": [
    "from sklearn import datasets\n",
    "from sklearn.model_selection import train_test_split\n",
    "from sklearn.linear_model import LogisticRegression\n",
    "import mlflow"
   ]
  },
  {
   "cell_type": "code",
   "execution_count": 2,
   "id": "d18670ba",
   "metadata": {},
   "outputs": [],
   "source": [
    "# example dataset\n",
    "dataset = datasets.load_iris()"
   ]
  },
  {
   "cell_type": "code",
   "execution_count": 3,
   "id": "376de5d2",
   "metadata": {},
   "outputs": [],
   "source": [
    "# train/test split\n",
    "X_train, X_test, y_train, y_test = train_test_split(dataset.data, dataset.target, test_size=0.4)"
   ]
  },
  {
   "cell_type": "code",
   "execution_count": 4,
   "id": "289107ec",
   "metadata": {},
   "outputs": [
    {
     "data": {
      "text/plain": [
       "((90, 4), (90,))"
      ]
     },
     "execution_count": 4,
     "metadata": {},
     "output_type": "execute_result"
    }
   ],
   "source": [
    "X_train.shape, y_train.shape"
   ]
  },
  {
   "cell_type": "code",
   "execution_count": 5,
   "id": "e0f19cc2",
   "metadata": {},
   "outputs": [
    {
     "data": {
      "text/plain": [
       "((60, 4), (60,))"
      ]
     },
     "execution_count": 5,
     "metadata": {},
     "output_type": "execute_result"
    }
   ],
   "source": [
    "X_test.shape, y_test.shape"
   ]
  },
  {
   "cell_type": "markdown",
   "id": "6e628d62",
   "metadata": {},
   "source": [
    "## ML engineering example"
   ]
  },
  {
   "cell_type": "code",
   "execution_count": 6,
   "id": "a128842d",
   "metadata": {},
   "outputs": [],
   "source": [
    "# set model\n",
    "model = LogisticRegression()"
   ]
  },
  {
   "cell_type": "code",
   "execution_count": 7,
   "id": "a7458437",
   "metadata": {},
   "outputs": [
    {
     "data": {
      "text/html": [
       "<style>#sk-container-id-1 {color: black;background-color: white;}#sk-container-id-1 pre{padding: 0;}#sk-container-id-1 div.sk-toggleable {background-color: white;}#sk-container-id-1 label.sk-toggleable__label {cursor: pointer;display: block;width: 100%;margin-bottom: 0;padding: 0.3em;box-sizing: border-box;text-align: center;}#sk-container-id-1 label.sk-toggleable__label-arrow:before {content: \"▸\";float: left;margin-right: 0.25em;color: #696969;}#sk-container-id-1 label.sk-toggleable__label-arrow:hover:before {color: black;}#sk-container-id-1 div.sk-estimator:hover label.sk-toggleable__label-arrow:before {color: black;}#sk-container-id-1 div.sk-toggleable__content {max-height: 0;max-width: 0;overflow: hidden;text-align: left;background-color: #f0f8ff;}#sk-container-id-1 div.sk-toggleable__content pre {margin: 0.2em;color: black;border-radius: 0.25em;background-color: #f0f8ff;}#sk-container-id-1 input.sk-toggleable__control:checked~div.sk-toggleable__content {max-height: 200px;max-width: 100%;overflow: auto;}#sk-container-id-1 input.sk-toggleable__control:checked~label.sk-toggleable__label-arrow:before {content: \"▾\";}#sk-container-id-1 div.sk-estimator input.sk-toggleable__control:checked~label.sk-toggleable__label {background-color: #d4ebff;}#sk-container-id-1 div.sk-label input.sk-toggleable__control:checked~label.sk-toggleable__label {background-color: #d4ebff;}#sk-container-id-1 input.sk-hidden--visually {border: 0;clip: rect(1px 1px 1px 1px);clip: rect(1px, 1px, 1px, 1px);height: 1px;margin: -1px;overflow: hidden;padding: 0;position: absolute;width: 1px;}#sk-container-id-1 div.sk-estimator {font-family: monospace;background-color: #f0f8ff;border: 1px dotted black;border-radius: 0.25em;box-sizing: border-box;margin-bottom: 0.5em;}#sk-container-id-1 div.sk-estimator:hover {background-color: #d4ebff;}#sk-container-id-1 div.sk-parallel-item::after {content: \"\";width: 100%;border-bottom: 1px solid gray;flex-grow: 1;}#sk-container-id-1 div.sk-label:hover label.sk-toggleable__label {background-color: #d4ebff;}#sk-container-id-1 div.sk-serial::before {content: \"\";position: absolute;border-left: 1px solid gray;box-sizing: border-box;top: 0;bottom: 0;left: 50%;z-index: 0;}#sk-container-id-1 div.sk-serial {display: flex;flex-direction: column;align-items: center;background-color: white;padding-right: 0.2em;padding-left: 0.2em;position: relative;}#sk-container-id-1 div.sk-item {position: relative;z-index: 1;}#sk-container-id-1 div.sk-parallel {display: flex;align-items: stretch;justify-content: center;background-color: white;position: relative;}#sk-container-id-1 div.sk-item::before, #sk-container-id-1 div.sk-parallel-item::before {content: \"\";position: absolute;border-left: 1px solid gray;box-sizing: border-box;top: 0;bottom: 0;left: 50%;z-index: -1;}#sk-container-id-1 div.sk-parallel-item {display: flex;flex-direction: column;z-index: 1;position: relative;background-color: white;}#sk-container-id-1 div.sk-parallel-item:first-child::after {align-self: flex-end;width: 50%;}#sk-container-id-1 div.sk-parallel-item:last-child::after {align-self: flex-start;width: 50%;}#sk-container-id-1 div.sk-parallel-item:only-child::after {width: 0;}#sk-container-id-1 div.sk-dashed-wrapped {border: 1px dashed gray;margin: 0 0.4em 0.5em 0.4em;box-sizing: border-box;padding-bottom: 0.4em;background-color: white;}#sk-container-id-1 div.sk-label label {font-family: monospace;font-weight: bold;display: inline-block;line-height: 1.2em;}#sk-container-id-1 div.sk-label-container {text-align: center;}#sk-container-id-1 div.sk-container {/* jupyter's `normalize.less` sets `[hidden] { display: none; }` but bootstrap.min.css set `[hidden] { display: none !important; }` so we also need the `!important` here to be able to override the default hidden behavior on the sphinx rendered scikit-learn.org. See: https://github.com/scikit-learn/scikit-learn/issues/21755 */display: inline-block !important;position: relative;}#sk-container-id-1 div.sk-text-repr-fallback {display: none;}</style><div id=\"sk-container-id-1\" class=\"sk-top-container\"><div class=\"sk-text-repr-fallback\"><pre>LogisticRegression()</pre><b>In a Jupyter environment, please rerun this cell to show the HTML representation or trust the notebook. <br />On GitHub, the HTML representation is unable to render, please try loading this page with nbviewer.org.</b></div><div class=\"sk-container\" hidden><div class=\"sk-item\"><div class=\"sk-estimator sk-toggleable\"><input class=\"sk-toggleable__control sk-hidden--visually\" id=\"sk-estimator-id-1\" type=\"checkbox\" checked><label for=\"sk-estimator-id-1\" class=\"sk-toggleable__label sk-toggleable__label-arrow\">LogisticRegression</label><div class=\"sk-toggleable__content\"><pre>LogisticRegression()</pre></div></div></div></div></div>"
      ],
      "text/plain": [
       "LogisticRegression()"
      ]
     },
     "execution_count": 7,
     "metadata": {},
     "output_type": "execute_result"
    }
   ],
   "source": [
    "# train model\n",
    "model.fit(X_train, y_train)"
   ]
  },
  {
   "cell_type": "markdown",
   "id": "bb5a559d",
   "metadata": {},
   "source": [
    "## In MLflow\n",
    "- `mlflow.autolog()` automatically log the experiment in the local directory (`./mlruns/`)\n",
    "- `./mlruns/` structures\n",
    "    ```bash\n",
    "    mlruns/\n",
    "    └── 0 # identifying experiments/\n",
    "        ├── e80db17dc13d4b898a18e8b55c62f835 # experiment UUID\n",
    "        │   ├── artifacts\n",
    "        │   │   └── model\n",
    "        │   │       ├── conda.yaml # packaging dependencies\n",
    "        │   │       ├── MLmodel\n",
    "        │   │       ├── model.pkl # serialized version of the model\n",
    "        │   │       ├── python_env.yaml\n",
    "        │   │       └── requirements.txt\n",
    "        │   ├── meta.yaml # stores basic metadata of experiments (e.g. starting time, end_time, run_id, ...)\n",
    "        │   ├── metrics # contains training score values\n",
    "        │   │   ├── training_accuracy_score\n",
    "        │   │   ├── training_f1_score\n",
    "        │   │   ├── training_log_loss\n",
    "        │   │   ├── training_precision_score\n",
    "        │   │   ├── training_recall_score\n",
    "        │   │   ├── training_roc_auc_score\n",
    "        │   │   └── training_score\n",
    "        │   ├── params # contains default parameters of the model\n",
    "        │   │   ├── C\n",
    "        │   │   ├── class_weight\n",
    "        │   │   ├── dual\n",
    "        │   │   ├── fit_intercept\n",
    "        │   │   ├── intercept_scaling\n",
    "        │   │   ├── l1_ratio\n",
    "        │   │   ├── max_iter\n",
    "        │   │   ├── multi_class\n",
    "        │   │   ├── n_jobs\n",
    "        │   │   ├── penalty\n",
    "        │   │   ├── random_state\n",
    "        │   │   ├── solver\n",
    "        │   │   ├── tol\n",
    "        │   │   ├── verbose\n",
    "        │   │   └── warm_start\n",
    "        │   └── tags\n",
    "        │       ├── estimator_class\n",
    "        │       ├── estimator_name\n",
    "        │       ├── mlflow.log-model.history\n",
    "        │       ├── mlflow.source.name\n",
    "        │       ├── mlflow.source.type\n",
    "        │       └── mlflow.user\n",
    "        └── meta.yaml\n",
    "    ```"
   ]
  },
  {
   "cell_type": "code",
   "execution_count": 8,
   "id": "821b4289",
   "metadata": {},
   "outputs": [
    {
     "name": "stderr",
     "output_type": "stream",
     "text": [
      "2022/09/13 14:10:16 INFO mlflow.tracking.fluent: Autologging successfully enabled for sklearn.\n"
     ]
    }
   ],
   "source": [
    "mlflow.autolog()"
   ]
  },
  {
   "cell_type": "code",
   "execution_count": 9,
   "id": "98bf36c6",
   "metadata": {},
   "outputs": [
    {
     "name": "stderr",
     "output_type": "stream",
     "text": [
      "2022/09/13 14:10:16 WARNING mlflow.sklearn.utils: Failed to import matplotlib (error: ModuleNotFoundError(\"No module named 'matplotlib'\")). Skipping artifact logging.\n",
      "2022/09/13 14:10:17 WARNING mlflow.utils.autologging_utils: MLflow autologging encountered a warning: \"/opt/conda/lib/python3.10/site-packages/_distutils_hack/__init__.py:33: UserWarning: Setuptools is replacing distutils.\"\n"
     ]
    }
   ],
   "source": [
    "with mlflow.start_run():\n",
    "    model = LogisticRegression()\n",
    "    model.fit(X_train, y_train)"
   ]
  },
  {
   "cell_type": "code",
   "execution_count": null,
   "id": "13dc2f89",
   "metadata": {},
   "outputs": [],
   "source": []
  },
  {
   "cell_type": "markdown",
   "id": "e4ac1122",
   "metadata": {},
   "source": [
    "## Exploring MLflow projects\n",
    "* MLflow Tracking: Provides a mechanism and UI to handle metrics and artifacts generated by ML executions (training and inference)\n",
    "* MLflow Projects: A package format to standardize ML projects\n",
    "* MLflow Models: A mechanism that deploys to different types of environments, both on-premises and in the cloud\n",
    "* MLflow Model registry: A module that handles the management of models in MLflow and its life cycle, including state"
   ]
  },
  {
   "cell_type": "markdown",
   "id": "d096fdaa",
   "metadata": {},
   "source": [
    "## MLProject examples\n",
    "\n",
    "- installs MLflow in local environment first.\n",
    "    ```bash\n",
    "    $ pip install mlflow\n",
    "    ```\n",
    "\n",
    "- MLProject file examples\n",
    "    - conda project\n",
    "        ```yaml\n",
    "        name: condapred\n",
    "        conda_env:\n",
    "          image: conda.yaml\n",
    "        entry_points:\n",
    "          main:\n",
    "            command: \"python mljob.py\"\n",
    "        ```\n",
    "\n",
    "    - system-based project\n",
    "        ```yaml\n",
    "        name: syspred\n",
    "        entry_points:\n",
    "          main:\n",
    "            command: \"python mljob.py\"\n",
    "        ```\n",
    "\n",
    "    - docker project\n",
    "        ```yaml\n",
    "        name: stockpred\n",
    "        docker_env:\n",
    "          image: stockpred-docker\n",
    "        entry_points:\n",
    "          main:\n",
    "            command: \"python train.py\"\n",
    "        ```"
   ]
  },
  {
   "cell_type": "markdown",
   "id": "6f7a429f",
   "metadata": {},
   "source": [
    "## End-to-end pipeline in MLflow\n",
    "- see `./stockpred/README.md`"
   ]
  },
  {
   "cell_type": "code",
   "execution_count": null,
   "id": "18998f67",
   "metadata": {},
   "outputs": [],
   "source": []
  },
  {
   "cell_type": "code",
   "execution_count": null,
   "id": "f45067d8",
   "metadata": {},
   "outputs": [],
   "source": []
  },
  {
   "cell_type": "code",
   "execution_count": null,
   "id": "5cc110fd",
   "metadata": {},
   "outputs": [],
   "source": []
  },
  {
   "cell_type": "code",
   "execution_count": null,
   "id": "8b8c14a4",
   "metadata": {},
   "outputs": [],
   "source": []
  }
 ],
 "metadata": {
  "kernelspec": {
   "display_name": "Python 3 (ipykernel)",
   "language": "python",
   "name": "python3"
  },
  "language_info": {
   "codemirror_mode": {
    "name": "ipython",
    "version": 3
   },
   "file_extension": ".py",
   "mimetype": "text/x-python",
   "name": "python",
   "nbconvert_exporter": "python",
   "pygments_lexer": "ipython3",
   "version": "3.10.6"
  }
 },
 "nbformat": 4,
 "nbformat_minor": 5
}
