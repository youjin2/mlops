{
 "cells": [
  {
   "cell_type": "code",
   "execution_count": 1,
   "id": "95bfa301",
   "metadata": {},
   "outputs": [
    {
     "name": "stderr",
     "output_type": "stream",
     "text": [
      "2022-11-01 12:58:28.057607: W tensorflow/stream_executor/platform/default/dso_loader.cc:64] Could not load dynamic library 'libcudart.so.11.0'; dlerror: libcudart.so.11.0: cannot open shared object file: No such file or directory\n",
      "2022-11-01 12:58:28.057627: I tensorflow/stream_executor/cuda/cudart_stub.cc:29] Ignore above cudart dlerror if you do not have a GPU set up on your machine.\n"
     ]
    }
   ],
   "source": [
    "import json\n",
    "\n",
    "import numpy as np\n",
    "import mlflow\n",
    "import bentoml\n",
    "import tensorflow as tf"
   ]
  },
  {
   "cell_type": "code",
   "execution_count": 2,
   "id": "9da96bfe",
   "metadata": {},
   "outputs": [],
   "source": [
    "from src.train import load_dataset"
   ]
  },
  {
   "cell_type": "code",
   "execution_count": 3,
   "id": "3556d334",
   "metadata": {},
   "outputs": [],
   "source": [
    "*_, (X_test, y_test) = load_dataset()"
   ]
  },
  {
   "cell_type": "code",
   "execution_count": 4,
   "id": "5c853e26",
   "metadata": {},
   "outputs": [],
   "source": [
    "runs = mlflow.search_runs(experiment_names=[\"mlflow-tensorflow-mnist\"]).\\\n",
    "    query(\"status == 'FINISHED'\").\\\n",
    "    query(\"`tags.mlflow.project.entryPoint` == 'train_model'\").\\\n",
    "    sort_values(\"start_time\", ascending=False)"
   ]
  },
  {
   "cell_type": "code",
   "execution_count": 5,
   "id": "4426938c",
   "metadata": {},
   "outputs": [],
   "source": [
    "run_id = runs.run_id.iloc[0]\n",
    "\n",
    "model_tag = json.loads(\n",
    "    mlflow.get_run(run_id).data.tags[\"mlflow.log-model.history\"]\n",
    ")\n",
    "artifact_path = model_tag[0][\"artifact_path\"]"
   ]
  },
  {
   "cell_type": "code",
   "execution_count": 6,
   "id": "942e91e9",
   "metadata": {},
   "outputs": [],
   "source": [
    "model_uri = f\"runs:/{run_id}/{artifact_path}\""
   ]
  },
  {
   "cell_type": "code",
   "execution_count": 7,
   "id": "46437bc0",
   "metadata": {},
   "outputs": [
    {
     "name": "stderr",
     "output_type": "stream",
     "text": [
      "2022-11-01 12:58:29.233632: W tensorflow/stream_executor/platform/default/dso_loader.cc:64] Could not load dynamic library 'libcuda.so.1'; dlerror: libcuda.so.1: cannot open shared object file: No such file or directory\n",
      "2022-11-01 12:58:29.233648: W tensorflow/stream_executor/cuda/cuda_driver.cc:269] failed call to cuInit: UNKNOWN ERROR (303)\n",
      "2022-11-01 12:58:29.233661: I tensorflow/stream_executor/cuda/cuda_diagnostics.cc:163] no NVIDIA GPU device is present: /dev/nvidia0 does not exist\n",
      "2022-11-01 12:58:29.233783: I tensorflow/core/platform/cpu_feature_guard.cc:151] This TensorFlow binary is optimized with oneAPI Deep Neural Network Library (oneDNN) to use the following CPU instructions in performance-critical operations:  AVX2 FMA\n",
      "To enable them in other operations, rebuild TensorFlow with the appropriate compiler flags.\n"
     ]
    }
   ],
   "source": [
    "model = tf.keras.models.load_model(\"./models\")"
   ]
  },
  {
   "cell_type": "code",
   "execution_count": 8,
   "id": "563d376b",
   "metadata": {},
   "outputs": [
    {
     "name": "stderr",
     "output_type": "stream",
     "text": [
      "/opt/conda/lib/python3.9/site-packages/bentoml/_internal/utils/tensorflow.py:297: UserWarning: `Model.state_updates` will be removed in a future version. This property should not be used in TensorFlow 2.0, as `updates` are applied automatically.\n",
      "  function_map = {k: getattr(m, k, None) for k in dir(m)}\n",
      "2022-11-01 12:58:30.452886: W tensorflow/python/util/util.cc:368] Sets are not currently considered sequences, but this may change in the future, so consider avoiding using them.\n",
      "/opt/conda/lib/python3.9/site-packages/bentoml/_internal/utils/tensorflow.py:297: UserWarning: `layer.updates` will be removed in a future version. This property should not be used in TensorFlow 2.0, as `updates` are applied automatically.\n",
      "  function_map = {k: getattr(m, k, None) for k in dir(m)}\n"
     ]
    },
    {
     "name": "stdout",
     "output_type": "stream",
     "text": [
      "INFO:tensorflow:Assets written to: /tmp/tmpg3oxdl6gbentoml_model_keras_native/assets\n",
      "BentoML model imported as keras native: Model(tag=\"keras_native:4jxghfsz4s4gsasc\")\n"
     ]
    }
   ],
   "source": [
    "model_1 = bentoml.tensorflow.save_model(\"keras_native\", model)\n",
    "print(f\"BentoML model imported as keras native: {model_1}\")"
   ]
  },
  {
   "cell_type": "code",
   "execution_count": 9,
   "id": "4f5881e3",
   "metadata": {},
   "outputs": [
    {
     "name": "stdout",
     "output_type": "stream",
     "text": [
      "BentoML model imported as mlflow pyfunc: Model(tag=\"mlflow_keras:4lvb3osz4s4gsasc\")\n"
     ]
    }
   ],
   "source": [
    "model_2 = bentoml.mlflow.import_model(\"mlflow_keras\", model_uri)\n",
    "print(f\"BentoML model imported as mlflow pyfunc: {model_2}\")"
   ]
  },
  {
   "cell_type": "code",
   "execution_count": 10,
   "id": "75c459d0",
   "metadata": {},
   "outputs": [
    {
     "name": "stdout",
     "output_type": "stream",
     "text": [
      "INFO:tensorflow:Assets written to: /tmp/tmpso_o668ibentoml_model_keras/assets\n",
      "BentoML model imported as keras native from MLflow artifact: Model(tag=\"keras:4nhrqzcz4s4gsasc\")\n"
     ]
    }
   ],
   "source": [
    "loaded_model = mlflow.keras.load_model(model_uri)\n",
    "model_3 = bentoml.keras.save_model(\"keras\", loaded_model)\n",
    "print(f\"BentoML model imported as keras native from MLflow artifact: {model_3}\")"
   ]
  },
  {
   "cell_type": "code",
   "execution_count": null,
   "id": "1b1211f9",
   "metadata": {},
   "outputs": [],
   "source": []
  },
  {
   "cell_type": "code",
   "execution_count": 11,
   "id": "aaad9624",
   "metadata": {},
   "outputs": [],
   "source": [
    "pred = model.predict(X_test)"
   ]
  },
  {
   "cell_type": "code",
   "execution_count": 12,
   "id": "3b780c5a",
   "metadata": {},
   "outputs": [
    {
     "name": "stderr",
     "output_type": "stream",
     "text": [
      "'Runner.init_local' is for debugging and testing only.\n"
     ]
    }
   ],
   "source": [
    "runner_1 = model_1.to_runner()\n",
    "runner_1.init_local()"
   ]
  },
  {
   "cell_type": "code",
   "execution_count": 13,
   "id": "b2045107",
   "metadata": {},
   "outputs": [
    {
     "name": "stderr",
     "output_type": "stream",
     "text": [
      "'Runner.init_local' is for debugging and testing only.\n",
      "/opt/conda/lib/python3.9/site-packages/keras/backend.py:450: UserWarning: `tf.keras.backend.set_learning_phase` is deprecated and will be removed after 2020-10-11. To update it, simply pass a True/False value to the `training` argument of the `__call__` method of your layer or model.\n",
      "  warnings.warn('`tf.keras.backend.set_learning_phase` is deprecated and '\n"
     ]
    }
   ],
   "source": [
    "runner_2 = model_2.to_runner()\n",
    "runner_2.init_local()"
   ]
  },
  {
   "cell_type": "code",
   "execution_count": 14,
   "id": "35cfc854",
   "metadata": {},
   "outputs": [
    {
     "name": "stderr",
     "output_type": "stream",
     "text": [
      "'Runner.init_local' is for debugging and testing only.\n"
     ]
    },
    {
     "name": "stdout",
     "output_type": "stream",
     "text": [
      "WARNING:tensorflow:No training configuration found in save file, so the model was *not* compiled. Compile it manually.\n"
     ]
    }
   ],
   "source": [
    "runner_3 = model_3.to_runner()\n",
    "runner_3.init_local()"
   ]
  },
  {
   "cell_type": "code",
   "execution_count": null,
   "id": "a5f9eb7e",
   "metadata": {},
   "outputs": [],
   "source": []
  },
  {
   "cell_type": "code",
   "execution_count": 15,
   "id": "e934dca7",
   "metadata": {},
   "outputs": [],
   "source": [
    "pred1 = runner_1.run(X_test)"
   ]
  },
  {
   "cell_type": "code",
   "execution_count": 16,
   "id": "d23c8574",
   "metadata": {},
   "outputs": [],
   "source": [
    "pred2 = runner_2.run(X_test)"
   ]
  },
  {
   "cell_type": "code",
   "execution_count": 17,
   "id": "227c1c5a",
   "metadata": {},
   "outputs": [],
   "source": [
    "pred3 = runner_3.run(X_test)"
   ]
  },
  {
   "cell_type": "code",
   "execution_count": null,
   "id": "df5fce20",
   "metadata": {},
   "outputs": [],
   "source": []
  },
  {
   "cell_type": "code",
   "execution_count": null,
   "id": "90ac6a45",
   "metadata": {},
   "outputs": [],
   "source": []
  },
  {
   "cell_type": "code",
   "execution_count": null,
   "id": "4a6d3b54",
   "metadata": {},
   "outputs": [],
   "source": []
  },
  {
   "cell_type": "code",
   "execution_count": null,
   "id": "26bda840",
   "metadata": {},
   "outputs": [],
   "source": []
  },
  {
   "cell_type": "code",
   "execution_count": null,
   "id": "3bff6fee",
   "metadata": {},
   "outputs": [],
   "source": []
  }
 ],
 "metadata": {
  "kernelspec": {
   "display_name": "Python 3 (ipykernel)",
   "language": "python",
   "name": "python3"
  },
  "language_info": {
   "codemirror_mode": {
    "name": "ipython",
    "version": 3
   },
   "file_extension": ".py",
   "mimetype": "text/x-python",
   "name": "python",
   "nbconvert_exporter": "python",
   "pygments_lexer": "ipython3",
   "version": "3.9.12"
  }
 },
 "nbformat": 4,
 "nbformat_minor": 5
}
