{
 "cells": [
  {
   "cell_type": "code",
   "execution_count": 1,
   "id": "cb0f464b",
   "metadata": {},
   "outputs": [],
   "source": [
    "import sys\n",
    "sys.path.append(\"../\")"
   ]
  },
  {
   "cell_type": "code",
   "execution_count": 2,
   "id": "7295dfaf",
   "metadata": {},
   "outputs": [
    {
     "name": "stderr",
     "output_type": "stream",
     "text": [
      "2022-11-07 13:41:38.508911: W tensorflow/stream_executor/platform/default/dso_loader.cc:64] Could not load dynamic library 'libcudart.so.11.0'; dlerror: libcudart.so.11.0: cannot open shared object file: No such file or directory\n",
      "2022-11-07 13:41:38.508930: I tensorflow/stream_executor/cuda/cudart_stub.cc:29] Ignore above cudart dlerror if you do not have a GPU set up on your machine.\n"
     ]
    }
   ],
   "source": [
    "import os\n",
    "import json\n",
    "\n",
    "import numpy as np\n",
    "import mlflow\n",
    "\n",
    "import tensorflow as tf\n",
    "from tensorflow.keras.models import Model\n",
    "from tensorflow.keras.layers import (\n",
    "    Input,\n",
    "    Dense,\n",
    "    Dropout,\n",
    ")\n",
    "from tensorflow.keras.constraints import non_neg\n",
    "from tensorflow.keras.callbacks import EarlyStopping\n",
    "\n",
    "from src.utils import (\n",
    "    mlflow_credential_path,\n",
    "    get_metadata,\n",
    "    mean_squared_error,\n",
    ")"
   ]
  },
  {
   "cell_type": "markdown",
   "id": "85746f45",
   "metadata": {},
   "source": [
    "## set environment variables"
   ]
  },
  {
   "cell_type": "code",
   "execution_count": 4,
   "id": "a058a32e",
   "metadata": {},
   "outputs": [],
   "source": [
    "# read mlflow credentials\n",
    "with open(mlflow_credential_path, \"r\") as f:\n",
    "    credentials = json.load(f)"
   ]
  },
  {
   "cell_type": "code",
   "execution_count": 5,
   "id": "f202c925",
   "metadata": {},
   "outputs": [],
   "source": [
    "# set mlflow accounts\n",
    "os.environ[\"MLFLOW_TRACKING_USERNAME\"] = credentials[\"MLFLOW_TRACKING_USERNAME\"]\n",
    "os.environ[\"MLFLOW_TRACKING_PASSWORD\"] = credentials[\"MLFLOW_TRACKING_PASSWORD\"]"
   ]
  },
  {
   "cell_type": "code",
   "execution_count": 6,
   "id": "796124ed",
   "metadata": {},
   "outputs": [],
   "source": [
    "# set gpu\n",
    "os.environ[\"CUDA_VISIBLE_DEVICES\"] = \"0\""
   ]
  },
  {
   "cell_type": "code",
   "execution_count": null,
   "id": "f2df4d22",
   "metadata": {},
   "outputs": [],
   "source": []
  },
  {
   "cell_type": "markdown",
   "id": "29118be3",
   "metadata": {},
   "source": [
    "## load dataset"
   ]
  },
  {
   "cell_type": "code",
   "execution_count": 7,
   "id": "1e8fb987",
   "metadata": {},
   "outputs": [],
   "source": [
    "(X_train, y_train), (X_test, y_test) = get_metadata(train_valid_split=True)"
   ]
  },
  {
   "cell_type": "code",
   "execution_count": null,
   "id": "f5055ba7",
   "metadata": {},
   "outputs": [],
   "source": []
  },
  {
   "cell_type": "markdown",
   "id": "69829d5a",
   "metadata": {},
   "source": [
    "## keras mlp model"
   ]
  },
  {
   "cell_type": "code",
   "execution_count": 8,
   "id": "bd97455b",
   "metadata": {},
   "outputs": [],
   "source": [
    "def build_model(num_features):\n",
    "    \n",
    "    inputs = Input(shape=(num_features,))\n",
    "    x = inputs\n",
    "    x = Dense(64, activation=\"relu\")(x)\n",
    "    x = Dropout(0.3)(x)\n",
    "    x = Dense(32, activation=\"relu\")(x)\n",
    "    outputs = Dense(1, kernel_constraint=non_neg())(x)\n",
    "\n",
    "    model = Model(inputs, outputs)\n",
    "    model.compile(optimizer=\"adam\", loss=\"mse\")\n",
    "    \n",
    "    return model"
   ]
  },
  {
   "cell_type": "code",
   "execution_count": 9,
   "id": "3911495c",
   "metadata": {},
   "outputs": [],
   "source": [
    "num_features = X_train.shape[1]"
   ]
  },
  {
   "cell_type": "code",
   "execution_count": 10,
   "id": "5aeb81aa",
   "metadata": {},
   "outputs": [],
   "source": [
    "es_callback = EarlyStopping(patience=5)"
   ]
  },
  {
   "cell_type": "code",
   "execution_count": 11,
   "id": "99755c5f",
   "metadata": {},
   "outputs": [
    {
     "name": "stderr",
     "output_type": "stream",
     "text": [
      "2022-11-07 13:41:49.406924: I tensorflow/stream_executor/cuda/cuda_gpu_executor.cc:939] successful NUMA node read from SysFS had negative value (-1), but there must be at least one NUMA node, so returning NUMA node zero\n",
      "2022-11-07 13:41:49.407067: W tensorflow/stream_executor/platform/default/dso_loader.cc:64] Could not load dynamic library 'libcudart.so.11.0'; dlerror: libcudart.so.11.0: cannot open shared object file: No such file or directory\n",
      "2022-11-07 13:41:49.407146: W tensorflow/stream_executor/platform/default/dso_loader.cc:64] Could not load dynamic library 'libcublas.so.11'; dlerror: libcublas.so.11: cannot open shared object file: No such file or directory\n",
      "2022-11-07 13:41:49.407199: W tensorflow/stream_executor/platform/default/dso_loader.cc:64] Could not load dynamic library 'libcublasLt.so.11'; dlerror: libcublasLt.so.11: cannot open shared object file: No such file or directory\n",
      "2022-11-07 13:41:49.407245: W tensorflow/stream_executor/platform/default/dso_loader.cc:64] Could not load dynamic library 'libcufft.so.10'; dlerror: libcufft.so.10: cannot open shared object file: No such file or directory\n",
      "2022-11-07 13:41:49.407291: W tensorflow/stream_executor/platform/default/dso_loader.cc:64] Could not load dynamic library 'libcurand.so.10'; dlerror: libcurand.so.10: cannot open shared object file: No such file or directory\n",
      "2022-11-07 13:41:49.407341: W tensorflow/stream_executor/platform/default/dso_loader.cc:64] Could not load dynamic library 'libcusolver.so.11'; dlerror: libcusolver.so.11: cannot open shared object file: No such file or directory\n",
      "2022-11-07 13:41:49.407391: W tensorflow/stream_executor/platform/default/dso_loader.cc:64] Could not load dynamic library 'libcusparse.so.11'; dlerror: libcusparse.so.11: cannot open shared object file: No such file or directory\n",
      "2022-11-07 13:41:49.407443: W tensorflow/stream_executor/platform/default/dso_loader.cc:64] Could not load dynamic library 'libcudnn.so.8'; dlerror: libcudnn.so.8: cannot open shared object file: No such file or directory\n",
      "2022-11-07 13:41:49.407450: W tensorflow/core/common_runtime/gpu/gpu_device.cc:1850] Cannot dlopen some GPU libraries. Please make sure the missing libraries mentioned above are installed properly if you would like to use GPU. Follow the guide at https://www.tensorflow.org/install/gpu for how to download and setup the required libraries for your platform.\n",
      "Skipping registering GPU devices...\n",
      "2022-11-07 13:41:49.407804: I tensorflow/core/platform/cpu_feature_guard.cc:151] This TensorFlow binary is optimized with oneAPI Deep Neural Network Library (oneDNN) to use the following CPU instructions in performance-critical operations:  AVX2 FMA\n",
      "To enable them in other operations, rebuild TensorFlow with the appropriate compiler flags.\n"
     ]
    }
   ],
   "source": [
    "model = build_model(num_features)"
   ]
  },
  {
   "cell_type": "code",
   "execution_count": 12,
   "id": "744b7eae",
   "metadata": {},
   "outputs": [
    {
     "name": "stderr",
     "output_type": "stream",
     "text": [
      "2022/11/07 13:41:50 INFO mlflow.utils.autologging_utils: Created MLflow autologging run with ID '', which will track hyperparameters, performance metrics, model artifacts, and lineage information for the current keras workflow\n"
     ]
    },
    {
     "name": "stdout",
     "output_type": "stream",
     "text": [
      "Epoch 1/100\n",
      "140/140 [==============================] - 0s 1ms/step - loss: 1204.3831 - val_loss: 477.2576\n",
      "Epoch 2/100\n",
      "140/140 [==============================] - 0s 878us/step - loss: 482.4884 - val_loss: 452.6822\n",
      "Epoch 3/100\n",
      "140/140 [==============================] - 0s 1ms/step - loss: 458.0023 - val_loss: 436.4815\n",
      "Epoch 4/100\n",
      "140/140 [==============================] - 0s 1ms/step - loss: 444.7266 - val_loss: 430.1240\n",
      "Epoch 5/100\n",
      "140/140 [==============================] - 0s 2ms/step - loss: 437.6786 - val_loss: 426.6674\n",
      "Epoch 6/100\n",
      "140/140 [==============================] - 0s 1ms/step - loss: 436.9326 - val_loss: 425.4612\n",
      "Epoch 7/100\n",
      "140/140 [==============================] - 0s 1ms/step - loss: 434.6058 - val_loss: 424.9646\n",
      "Epoch 8/100\n",
      "140/140 [==============================] - 0s 2ms/step - loss: 432.3652 - val_loss: 428.3480\n",
      "Epoch 9/100\n",
      "140/140 [==============================] - 0s 1ms/step - loss: 433.5197 - val_loss: 425.0873\n",
      "Epoch 10/100\n",
      "140/140 [==============================] - 0s 2ms/step - loss: 432.8877 - val_loss: 424.5785\n",
      "Epoch 11/100\n",
      "140/140 [==============================] - 0s 1ms/step - loss: 432.6027 - val_loss: 425.4263\n",
      "Epoch 12/100\n",
      "140/140 [==============================] - 0s 1ms/step - loss: 434.3362 - val_loss: 424.7860\n",
      "Epoch 13/100\n",
      "140/140 [==============================] - 0s 2ms/step - loss: 435.1875 - val_loss: 427.7232\n",
      "Epoch 14/100\n",
      "140/140 [==============================] - 0s 927us/step - loss: 431.8247 - val_loss: 424.8618\n",
      "Epoch 15/100\n",
      "140/140 [==============================] - 0s 2ms/step - loss: 433.7953 - val_loss: 424.8206\n"
     ]
    },
    {
     "name": "stderr",
     "output_type": "stream",
     "text": [
      "2022/11/07 13:41:54 WARNING mlflow.utils.autologging_utils: Encountered unexpected error during keras autologging: API request to endpoint /api/2.0/mlflow/runs/update failed with error code 400 != 200. Response body: '\"repo not associated with run\"'\n"
     ]
    },
    {
     "data": {
      "text/plain": [
       "<keras.callbacks.History at 0x7fbb72a0cee0>"
      ]
     },
     "execution_count": 12,
     "metadata": {},
     "output_type": "execute_result"
    }
   ],
   "source": [
    "model.fit(\n",
    "    X_train, y_train,\n",
    "    batch_size=64,\n",
    "    epochs=100,\n",
    "    validation_data=(X_test, y_test),\n",
    "    callbacks=[es_callback]\n",
    ")"
   ]
  },
  {
   "cell_type": "code",
   "execution_count": 13,
   "id": "5c09d21c",
   "metadata": {},
   "outputs": [],
   "source": [
    "pred_train = model.predict(X_train)\n",
    "pred_test = model.predict(X_test)"
   ]
  },
  {
   "cell_type": "code",
   "execution_count": 14,
   "id": "3770b605",
   "metadata": {},
   "outputs": [
    {
     "name": "stdout",
     "output_type": "stream",
     "text": [
      "Train MSE: 20.51246884798047\n",
      "Test MSE: 20.611175699329475\n"
     ]
    }
   ],
   "source": [
    "print(f\"Train MSE: {mean_squared_error(y_train, pred_train)}\")\n",
    "print(f\"Test MSE: {mean_squared_error(y_test, pred_test)}\")"
   ]
  },
  {
   "cell_type": "code",
   "execution_count": null,
   "id": "a5c12861",
   "metadata": {},
   "outputs": [],
   "source": []
  },
  {
   "cell_type": "code",
   "execution_count": null,
   "id": "32865f40",
   "metadata": {},
   "outputs": [],
   "source": []
  },
  {
   "cell_type": "code",
   "execution_count": null,
   "id": "1d9972be",
   "metadata": {},
   "outputs": [],
   "source": []
  },
  {
   "cell_type": "code",
   "execution_count": null,
   "id": "0e73107b",
   "metadata": {},
   "outputs": [],
   "source": []
  },
  {
   "cell_type": "code",
   "execution_count": null,
   "id": "0cd52c3f",
   "metadata": {},
   "outputs": [],
   "source": []
  },
  {
   "cell_type": "code",
   "execution_count": null,
   "id": "7f9d969c",
   "metadata": {},
   "outputs": [],
   "source": []
  },
  {
   "cell_type": "code",
   "execution_count": null,
   "id": "62a34e4b",
   "metadata": {},
   "outputs": [],
   "source": []
  },
  {
   "cell_type": "code",
   "execution_count": null,
   "id": "f3c8feab",
   "metadata": {},
   "outputs": [],
   "source": []
  },
  {
   "cell_type": "code",
   "execution_count": null,
   "id": "a752c78f",
   "metadata": {},
   "outputs": [],
   "source": []
  }
 ],
 "metadata": {
  "kernelspec": {
   "display_name": "Python 3 (ipykernel)",
   "language": "python",
   "name": "python3"
  },
  "language_info": {
   "codemirror_mode": {
    "name": "ipython",
    "version": 3
   },
   "file_extension": ".py",
   "mimetype": "text/x-python",
   "name": "python",
   "nbconvert_exporter": "python",
   "pygments_lexer": "ipython3",
   "version": "3.9.12"
  }
 },
 "nbformat": 4,
 "nbformat_minor": 5
}
